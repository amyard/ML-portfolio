{
 "cells": [
  {
   "cell_type": "code",
   "execution_count": 6,
   "metadata": {},
   "outputs": [
    {
     "name": "stdout",
     "output_type": "stream",
     "text": [
      "  comission                                        description floor  \\\n",
      "0            Предлагается к долгосрочной аренде по-настояще...     3   \n",
      "\n",
      "  floor_building                                              fotos rooms  \\\n",
      "0              5  [https://img01-olxua.akamaized.net/img-olxua/6...     3   \n",
      "\n",
      "    space type_of_building  \n",
      "0  230 м²         Квартира  \n"
     ]
    }
   ],
   "source": [
    "import requests\n",
    "from bs4 import BeautifulSoup\n",
    "import pandas as pd\n",
    "import os\n",
    "\n",
    "url = 'https://www.olx.ua/obyavlenie/arenda-vip-kvartiry-na-deribasovskoy-IDAMh6k.html#a206a16f05'\n",
    "response = requests.get(url).text\n",
    "\n",
    "soup = BeautifulSoup(response, 'lxml')\n",
    "table = soup.find_all('table', class_='item')\n",
    "projects = []\n",
    "for tab in table:\n",
    "    projects.append({\n",
    "        'title':tab.find('th').text.strip(),\n",
    "        'value':tab.find('td').text.strip()\n",
    "    })\n",
    "\n",
    "# Let's collect out data\n",
    "df = []\n",
    "\n",
    "df.append({\n",
    "    'comission' : ''.join([projects[i]['value'] if projects[i]['title'] == 'Без комиссии' else '' for i in range (0,len(projects))]),\n",
    "    'type_of_building' : ''.join([projects[i]['value'] if projects[i]['title'] == 'Тип объекта' else '' for i in range (0,len(projects))]),\n",
    "    'floor' : ''.join([projects[i]['value'] if projects[i]['title'] == 'Этаж' else '' for i in range (0,len(projects))]),\n",
    "    'floor_building' : ''.join([projects[i]['value'] if projects[i]['title'] == 'Этажность' else '' for i in range (0,len(projects))]),\n",
    "    'space' : ''.join([projects[i]['value'] if projects[i]['title'] == 'Общая площадь' else '' for i in range (0,len(projects))]),\n",
    "    'rooms' : ''.join([projects[i]['value'] if projects[i]['title'] == 'Количество комнат' else '' for i in range (0,len(projects))]),\n",
    "    'description' : soup.find_all('p', class_='pding10')[0].text.strip(),\n",
    "    'fotos': [soup.find_all('div', class_='tcenter img-item')[i].find('img').get('src') for i in range(len(soup.find_all('div', class_='tcenter img-item')))]\n",
    "})\n",
    "\n",
    "df_main = pd.DataFrame.from_dict(df)\n",
    "print(df_main)\n"
   ]
  },
  {
   "cell_type": "code",
   "execution_count": 9,
   "metadata": {},
   "outputs": [],
   "source": [
    "# Parse fotos\n",
    "urls = df_main.loc[0,'fotos']\n",
    "\n",
    "def get_file(url):\n",
    "    r = requests.get(url, stream = True)\n",
    "    return r\n",
    "\n",
    "def get_name(url):\n",
    "    name = url.split('/')[-1]\n",
    "    \n",
    "    folder = 'For fotos'\n",
    "    #os.path.exists(folder)\n",
    "    if not os.path.exists(folder):\n",
    "        os.makedirs(folder)\n",
    "    path = os.path.abspath(folder)\n",
    "    return path + '/' + name\n",
    "\n",
    "def save_image(name, file_object):\n",
    "    with open(name, 'bw') as f:\n",
    "        for chunk in file_object.iter_content(8192):\n",
    "            f.write(chunk)\n",
    "\n",
    "def main():\n",
    "    for url in urls:\n",
    "        save_image(get_name(url), get_file(url))\n",
    "\n",
    "if __name__=='__main__':\n",
    "    main()"
   ]
  }
 ],
 "metadata": {
  "kernelspec": {
   "display_name": "Python 3",
   "language": "python",
   "name": "python3"
  },
  "language_info": {
   "codemirror_mode": {
    "name": "ipython",
    "version": 3
   },
   "file_extension": ".py",
   "mimetype": "text/x-python",
   "name": "python",
   "nbconvert_exporter": "python",
   "pygments_lexer": "ipython3",
   "version": "3.6.5"
  }
 },
 "nbformat": 4,
 "nbformat_minor": 2
}
