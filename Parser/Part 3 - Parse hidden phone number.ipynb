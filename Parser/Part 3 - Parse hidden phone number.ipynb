{
 "cells": [
  {
   "cell_type": "code",
   "execution_count": 2,
   "metadata": {},
   "outputs": [],
   "source": [
    "# We can get the phone number after clicking on it\n",
    "\n",
    "from selenium import webdriver\n",
    "from time import sleep\n",
    "\n",
    "\n",
    "class Bot:\n",
    "    def __init__(self):\n",
    "        self.driver = b = webdriver.Chrome('chromedriver')\n",
    "        self.navigate()\n",
    "\n",
    "    def take_screenshot(self):\n",
    "        self.driver.save_screenshot('avito_screenshot.png')\n",
    "\n",
    "    def navigate(self):\n",
    "        self.driver.get('https://www.olx.ua/obyavlenie/2-komnatnaya-arkadiya-7-fontana-IDAUDq4.html#a206a16f05')\n",
    "\n",
    "        button = self.driver.find_element_by_xpath('//strong[@class=\"xx-large\"]')\n",
    "        button.click()\n",
    "        sleep(3)\n",
    "        numb = self.driver.find_element_by_xpath('//strong[@class=\"xx-large\"]')\n",
    "        print(numb.text)\n",
    "\n",
    "\n",
    "def main():\n",
    "    b = Bot()"
   ]
  },
  {
   "cell_type": "code",
   "execution_count": null,
   "metadata": {},
   "outputs": [],
   "source": []
  }
 ],
 "metadata": {
  "kernelspec": {
   "display_name": "Python 3",
   "language": "python",
   "name": "python3"
  },
  "language_info": {
   "codemirror_mode": {
    "name": "ipython",
    "version": 3
   },
   "file_extension": ".py",
   "mimetype": "text/x-python",
   "name": "python",
   "nbconvert_exporter": "python",
   "pygments_lexer": "ipython3",
   "version": "3.6.5"
  }
 },
 "nbformat": 4,
 "nbformat_minor": 2
}
