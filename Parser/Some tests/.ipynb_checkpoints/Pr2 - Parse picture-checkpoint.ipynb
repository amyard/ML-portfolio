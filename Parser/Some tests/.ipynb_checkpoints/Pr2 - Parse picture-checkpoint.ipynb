{
 "cells": [
  {
   "cell_type": "code",
   "execution_count": 1,
   "metadata": {},
   "outputs": [],
   "source": [
    "# Simple download\n",
    "\n",
    "import requests\n",
    "\n",
    "url = 'https://www.hdwallpapers.in/thumbs/2018/solar_system_planets-t2.jpg'\n",
    "\n",
    "r = requests.get(url, stream = True)   # stream - выкачка файла\n",
    "with open('1.jpg', 'bw') as f:  # bw для записи картинку. \"w\" для записи текста\n",
    "\tfor chunk in r.iter_content(8192):   # число ствим любое, типа на какие байтовые размеры файл делит\n",
    "\t\tf.write(chunk)"
   ]
  },
  {
   "cell_type": "code",
   "execution_count": 2,
   "metadata": {},
   "outputs": [],
   "source": [
    "# Simple download by name\n",
    "\n",
    "urls = ['https://www.hdwallpapers.in/thumbs/2018/hoverfly_pollination-t2.jpg',\n",
    "        'https://www.hdwallpapers.in/thumbs/2018/solar_system_planets-t2.jpg',\n",
    "        'https://www.hdwallpapers.in/thumbs/2018/2019_chevrolet_camaro_ss_4k-t2.jpg',\n",
    "        'https://www.hdwallpapers.in/thumbs/2018/snowy_winter_season_4k-t2.jpg',\n",
    "        'https://www.hdwallpapers.in/thumbs/2018/supergirl_season_3_2018-t2.jpg']\n",
    "\n",
    "def get_file(url):\n",
    "    r = requests.get(url, stream = True)\n",
    "    return r\n",
    "\n",
    "def get_name(url):\n",
    "    name = url.split('/')[-1]\n",
    "    return name\n",
    "\n",
    "def save_image(name, file_object):\n",
    "    with open(name, 'bw') as f:\n",
    "        for chunk in file_object.iter_content(8192):\n",
    "            f.write(chunk)\n",
    "\n",
    "\n",
    "\n",
    "def main():\n",
    "    for url in urls:\n",
    "        save_image(get_name(url), get_file(url))\n",
    "\n",
    "if __name__=='__main__':\n",
    "    main()"
   ]
  },
  {
   "cell_type": "code",
   "execution_count": null,
   "metadata": {},
   "outputs": [],
   "source": []
  }
 ],
 "metadata": {
  "kernelspec": {
   "display_name": "Python 3",
   "language": "python",
   "name": "python3"
  },
  "language_info": {
   "codemirror_mode": {
    "name": "ipython",
    "version": 3
   },
   "file_extension": ".py",
   "mimetype": "text/x-python",
   "name": "python",
   "nbconvert_exporter": "python",
   "pygments_lexer": "ipython3",
   "version": "3.6.5"
  }
 },
 "nbformat": 4,
 "nbformat_minor": 2
}
