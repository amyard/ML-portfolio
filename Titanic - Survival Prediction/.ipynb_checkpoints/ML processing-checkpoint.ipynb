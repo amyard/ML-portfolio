{
 "cells": [
  {
   "cell_type": "markdown",
   "metadata": {},
   "source": [
    "1. Reading and preparing Data\n",
    "2. Split Data\n",
    "3. Modelling\n",
    "4. Cross Validation\n",
    "5. Confusion matrix.\n",
    "6. Hyper-parameter tunning\n",
    "7. Ensembling\n",
    "8. Bagging\n",
    "9. Boosting\n",
    "10. Hyper-Parameter Tuning for Bagged Decission Tree\n",
    "11. Feature importance"
   ]
  },
  {
   "cell_type": "code",
   "execution_count": 38,
   "metadata": {},
   "outputs": [],
   "source": [
    "import pandas as pd\n",
    "\n",
    "import seaborn as sns\n",
    "import matplotlib.pyplot as plt\n",
    "%matplotlib inline\n",
    "\n",
    "import warnings\n",
    "warnings.filterwarnings(action = 'ignore')"
   ]
  },
  {
   "cell_type": "code",
   "execution_count": 2,
   "metadata": {},
   "outputs": [],
   "source": [
    "# ML\n",
    "from sklearn.linear_model import LogisticRegression\n",
    "from sklearn import svm\n",
    "from sklearn.ensemble import RandomForestClassifier\n",
    "from sklearn.neighbors import KNeighborsClassifier\n",
    "from sklearn.naive_bayes import GaussianNB\n",
    "from sklearn.tree import DecisionTreeClassifier\n",
    "\n",
    "from sklearn.model_selection import train_test_split\n",
    "from sklearn import metrics\n",
    "from sklearn.metrics import confusion_matrix, accuracy_score"
   ]
  },
  {
   "cell_type": "code",
   "execution_count": 3,
   "metadata": {
    "collapsed": true
   },
   "outputs": [],
   "source": [
    "# Cross Validation\n",
    "from sklearn.model_selection import KFold\n",
    "from sklearn.model_selection import cross_val_score, cross_val_predict"
   ]
  },
  {
   "cell_type": "code",
   "execution_count": 4,
   "metadata": {
    "collapsed": true
   },
   "outputs": [],
   "source": [
    "# Hyper-parameter tuning\n",
    "from sklearn.model_selection import GridSearchCV"
   ]
  },
  {
   "cell_type": "code",
   "execution_count": 5,
   "metadata": {},
   "outputs": [],
   "source": [
    "# Ensembling\n",
    "from sklearn.ensemble import VotingClassifier\n",
    "from sklearn.ensemble import BaggingClassifier\n",
    "from sklearn.ensemble import AdaBoostClassifier\n",
    "from sklearn.ensemble import GradientBoostingClassifier\n",
    "#import xgboost as xg"
   ]
  },
  {
   "cell_type": "markdown",
   "metadata": {},
   "source": [
    "# 1. READING AND PREPARING DATA"
   ]
  },
  {
   "cell_type": "code",
   "execution_count": 6,
   "metadata": {},
   "outputs": [
    {
     "data": {
      "text/plain": [
       "['Age',\n",
       " 'Embarked',\n",
       " 'Fare',\n",
       " 'Parch',\n",
       " 'Pclass',\n",
       " 'Sex',\n",
       " 'SibSp',\n",
       " 'Survived',\n",
       " 'Title',\n",
       " 'AgeGroups',\n",
       " 'FareCategory',\n",
       " 'DeckCode',\n",
       " 'Room',\n",
       " 'RoomCategory',\n",
       " 'Odd',\n",
       " 'FamilySize',\n",
       " 'FamilySizeGroup',\n",
       " 'Alone']"
      ]
     },
     "execution_count": 6,
     "metadata": {},
     "output_type": "execute_result"
    }
   ],
   "source": [
    "df = pd.read_csv('data_df.csv', sep = '\\t', index_col = 0)\n",
    "df.columns.tolist()"
   ]
  },
  {
   "cell_type": "code",
   "execution_count": 7,
   "metadata": {},
   "outputs": [
    {
     "data": {
      "text/plain": [
       "(1309, 18)"
      ]
     },
     "execution_count": 7,
     "metadata": {},
     "output_type": "execute_result"
    }
   ],
   "source": [
    "df.shape"
   ]
  },
  {
   "cell_type": "code",
   "execution_count": 8,
   "metadata": {},
   "outputs": [
    {
     "data": {
      "text/plain": [
       "(1309, 13)"
      ]
     },
     "execution_count": 8,
     "metadata": {},
     "output_type": "execute_result"
    }
   ],
   "source": [
    "columns = ['Embarked',\n",
    " 'Parch',\n",
    " 'Pclass',\n",
    " 'Sex',\n",
    " 'SibSp',\n",
    " 'Survived',\n",
    " 'Title',\n",
    " 'AgeGroups',\n",
    " 'FareCategory',\n",
    " 'DeckCode',\n",
    " 'RoomCategory',\n",
    " 'FamilySize',\n",
    " 'Alone']\n",
    "\n",
    "data = df[columns]\n",
    "data.shape"
   ]
  },
  {
   "cell_type": "markdown",
   "metadata": {},
   "source": [
    "# 2. Split data to train and test df's"
   ]
  },
  {
   "cell_type": "code",
   "execution_count": 9,
   "metadata": {},
   "outputs": [],
   "source": [
    "train_shape = pd.read_csv('train.csv').shape[0]\n",
    "train_df = data[:train_shape]\n",
    "test_df = data[train_shape:]"
   ]
  },
  {
   "cell_type": "code",
   "execution_count": 10,
   "metadata": {},
   "outputs": [],
   "source": [
    "train, test = train_test_split(train_df, test_size = 0.3, random_state = 0)\n",
    "x_train = train.drop('Survived', axis = 1)\n",
    "y_train = train['Survived']\n",
    "x_test = test.drop('Survived', axis = 1)\n",
    "y_test = test['Survived']\n",
    "\n",
    "X = train_df.drop('Survived', axis = 1)\n",
    "Y = train_df['Survived']"
   ]
  },
  {
   "cell_type": "markdown",
   "metadata": {},
   "source": [
    "# 3. Modelling"
   ]
  },
  {
   "cell_type": "markdown",
   "metadata": {},
   "source": [
    "### Radial Support Vector Machines"
   ]
  },
  {
   "cell_type": "code",
   "execution_count": 11,
   "metadata": {},
   "outputs": [
    {
     "name": "stdout",
     "output_type": "stream",
     "text": [
      "Accuracy for rbf SVM is  0.820895522388\n"
     ]
    }
   ],
   "source": [
    "model = svm.SVC(kernel = 'rbf', C=1, gamma = 0.1)\n",
    "model.fit(x_train,y_train)\n",
    "predict = model.predict(x_test)\n",
    "acc_rbf = accuracy_score(predict, y_test)\n",
    "print('Accuracy for rbf SVM is ', acc_rbf)"
   ]
  },
  {
   "cell_type": "markdown",
   "metadata": {},
   "source": [
    "### Linear Support Vector Machines"
   ]
  },
  {
   "cell_type": "code",
   "execution_count": 12,
   "metadata": {},
   "outputs": [
    {
     "name": "stdout",
     "output_type": "stream",
     "text": [
      "Accuracy for linear SVM is  0.794776119403\n"
     ]
    }
   ],
   "source": [
    "model = svm.SVC(kernel = 'linear', C=0.1, gamma = 0.1)\n",
    "model.fit(x_train, y_train)\n",
    "predict = model.predict(x_test)\n",
    "acc_lin_svc = accuracy_score(predict, y_test)\n",
    "print('Accuracy for linear SVM is ', acc_lin_svc)"
   ]
  },
  {
   "cell_type": "markdown",
   "metadata": {},
   "source": [
    "### Logistic Regression"
   ]
  },
  {
   "cell_type": "code",
   "execution_count": 25,
   "metadata": {},
   "outputs": [
    {
     "name": "stdout",
     "output_type": "stream",
     "text": [
      "Accuracy for Logistic Regression  0.813432835821\n"
     ]
    }
   ],
   "source": [
    "model = LogisticRegression()\n",
    "model.fit(x_train, y_train)\n",
    "predict = model.predict(x_test)\n",
    "acc_log = accuracy_score(predict, y_test)\n",
    "print('Accuracy for Logistic Regression ', acc_log)"
   ]
  },
  {
   "cell_type": "code",
   "execution_count": 37,
   "metadata": {},
   "outputs": [
    {
     "data": {
      "text/html": [
       "<div>\n",
       "<table border=\"1\" class=\"dataframe\">\n",
       "  <thead>\n",
       "    <tr style=\"text-align: right;\">\n",
       "      <th></th>\n",
       "      <th>Feature</th>\n",
       "      <th>Correlation</th>\n",
       "    </tr>\n",
       "  </thead>\n",
       "  <tbody>\n",
       "    <tr>\n",
       "      <th>5</th>\n",
       "      <td>Title</td>\n",
       "      <td>0.606328</td>\n",
       "    </tr>\n",
       "    <tr>\n",
       "      <th>11</th>\n",
       "      <td>Alone</td>\n",
       "      <td>0.549217</td>\n",
       "    </tr>\n",
       "    <tr>\n",
       "      <th>0</th>\n",
       "      <td>Embarked</td>\n",
       "      <td>0.316248</td>\n",
       "    </tr>\n",
       "    <tr>\n",
       "      <th>7</th>\n",
       "      <td>FareCategory</td>\n",
       "      <td>0.241502</td>\n",
       "    </tr>\n",
       "    <tr>\n",
       "      <th>8</th>\n",
       "      <td>DeckCode</td>\n",
       "      <td>0.200742</td>\n",
       "    </tr>\n",
       "    <tr>\n",
       "      <th>1</th>\n",
       "      <td>Parch</td>\n",
       "      <td>-0.008394</td>\n",
       "    </tr>\n",
       "    <tr>\n",
       "      <th>9</th>\n",
       "      <td>RoomCategory</td>\n",
       "      <td>-0.026454</td>\n",
       "    </tr>\n",
       "    <tr>\n",
       "      <th>4</th>\n",
       "      <td>SibSp</td>\n",
       "      <td>-0.379121</td>\n",
       "    </tr>\n",
       "    <tr>\n",
       "      <th>10</th>\n",
       "      <td>FamilySize</td>\n",
       "      <td>-0.387515</td>\n",
       "    </tr>\n",
       "    <tr>\n",
       "      <th>2</th>\n",
       "      <td>Pclass</td>\n",
       "      <td>-0.534430</td>\n",
       "    </tr>\n",
       "    <tr>\n",
       "      <th>6</th>\n",
       "      <td>AgeGroups</td>\n",
       "      <td>-0.538372</td>\n",
       "    </tr>\n",
       "    <tr>\n",
       "      <th>3</th>\n",
       "      <td>Sex</td>\n",
       "      <td>-1.966616</td>\n",
       "    </tr>\n",
       "  </tbody>\n",
       "</table>\n",
       "</div>"
      ],
      "text/plain": [
       "         Feature  Correlation\n",
       "5          Title     0.606328\n",
       "11         Alone     0.549217\n",
       "0       Embarked     0.316248\n",
       "7   FareCategory     0.241502\n",
       "8       DeckCode     0.200742\n",
       "1          Parch    -0.008394\n",
       "9   RoomCategory    -0.026454\n",
       "4          SibSp    -0.379121\n",
       "10    FamilySize    -0.387515\n",
       "2         Pclass    -0.534430\n",
       "6      AgeGroups    -0.538372\n",
       "3            Sex    -1.966616"
      ]
     },
     "execution_count": 37,
     "metadata": {},
     "output_type": "execute_result"
    }
   ],
   "source": [
    "coeff_df = pd.DataFrame(train_df.columns.delete(5))\n",
    "coeff_df.columns = ['Feature']\n",
    "coeff_df['Correlation'] = pd.Series(model.coef_[0])\n",
    "\n",
    "coeff_df.sort_values(by = 'Correlation', ascending = False)"
   ]
  },
  {
   "cell_type": "markdown",
   "metadata": {},
   "source": [
    "### Decission Tree"
   ]
  },
  {
   "cell_type": "code",
   "execution_count": 14,
   "metadata": {},
   "outputs": [
    {
     "name": "stdout",
     "output_type": "stream",
     "text": [
      "Accuracy of Decission Tree is  0.820895522388\n"
     ]
    }
   ],
   "source": [
    "model = DecisionTreeClassifier()\n",
    "model.fit(x_train, y_train)\n",
    "predict = model.predict(x_test)\n",
    "acc_tree = accuracy_score(predict, y_test)\n",
    "print('Accuracy of Decission Tree is ', acc_tree)"
   ]
  },
  {
   "cell_type": "markdown",
   "metadata": {},
   "source": [
    "### K-Nearest Neightbours (KNN)"
   ]
  },
  {
   "cell_type": "code",
   "execution_count": 15,
   "metadata": {},
   "outputs": [
    {
     "name": "stdout",
     "output_type": "stream",
     "text": [
      "Accuracy of the KNN is  0.813432835821\n"
     ]
    }
   ],
   "source": [
    "model = KNeighborsClassifier()\n",
    "model.fit(x_train, y_train)\n",
    "predict = model.predict(x_test)\n",
    "acc_knn = accuracy_score(predict, y_test)\n",
    "print('Accuracy of the KNN is ', acc_knn)"
   ]
  },
  {
   "cell_type": "code",
   "execution_count": 16,
   "metadata": {},
   "outputs": [
    {
     "data": {
      "image/png": "[encoded data removed]",
      "text/plain": [
       "<matplotlib.figure.Figure at 0xa19cf98>"
      ]
     },
     "metadata": {},
     "output_type": "display_data"
    }
   ],
   "source": [
    "# The accuracies over various values of n_neightbors\n",
    "a = []\n",
    "for i in range(1,11):\n",
    "    model = KNeighborsClassifier(n_neighbors=i)\n",
    "    model.fit(x_train, y_train)\n",
    "    predict = model.predict(x_test)\n",
    "    a.append({'number':i, 'accuracy':accuracy_score(predict,y_test)})\n",
    "acc_df = pd.DataFrame(a)\n",
    "plt.plot(acc_df.number, acc_df.accuracy)\n",
    "fig = plt.gcf()\n",
    "fig.set_size_inches(12,6)"
   ]
  },
  {
   "cell_type": "code",
   "execution_count": 18,
   "metadata": {},
   "outputs": [
    {
     "name": "stdout",
     "output_type": "stream",
     "text": [
      "Accuracies for different sizes of n are: \n",
      "        accuracy\n",
      "number          \n",
      "1       0.712687\n",
      "2       0.794776\n",
      "3       0.832090\n",
      "4       0.817164\n",
      "5       0.813433\n",
      "6       0.824627\n",
      "7       0.817164\n",
      "8       0.805970\n",
      "9       0.805970\n",
      "10      0.813433\n"
     ]
    }
   ],
   "source": [
    "print('Accuracies for different sizes of n are: ')\n",
    "print(acc_df.set_index('number'))"
   ]
  },
  {
   "cell_type": "code",
   "execution_count": 19,
   "metadata": {},
   "outputs": [
    {
     "name": "stdout",
     "output_type": "stream",
     "text": [
      "Accuracy of the KNN is  0.832089552239\n"
     ]
    }
   ],
   "source": [
    "model = KNeighborsClassifier(n_neighbors=3)\n",
    "model.fit(x_train, y_train)\n",
    "predict = model.predict(x_test)\n",
    "acc_knn = accuracy_score(predict, y_test)\n",
    "print('Accuracy of the KNN is ', acc_knn)"
   ]
  },
  {
   "cell_type": "markdown",
   "metadata": {
    "collapsed": true
   },
   "source": [
    "### Gaussian Naive Bayes"
   ]
  },
  {
   "cell_type": "code",
   "execution_count": 20,
   "metadata": {},
   "outputs": [
    {
     "name": "stdout",
     "output_type": "stream",
     "text": [
      "Accuracy of the Naive Bayes is  0.776119402985\n"
     ]
    }
   ],
   "source": [
    "model = GaussianNB()\n",
    "model.fit(x_train,y_train)\n",
    "predict = model.predict(x_test)\n",
    "acc_nb = accuracy_score(predict, y_test)\n",
    "print('Accuracy of the Naive Bayes is ', acc_nb)"
   ]
  },
  {
   "cell_type": "markdown",
   "metadata": {},
   "source": [
    "### Random Forest"
   ]
  },
  {
   "cell_type": "code",
   "execution_count": 22,
   "metadata": {},
   "outputs": [
    {
     "name": "stdout",
     "output_type": "stream",
     "text": [
      "Accuracy of Random Forest is  0.858208955224\n"
     ]
    }
   ],
   "source": [
    "model = RandomForestClassifier(n_estimators = 100)\n",
    "model.fit(x_train, y_train)\n",
    "predict = model.predict(x_test)\n",
    "acc_forest = accuracy_score(predict, y_test)\n",
    "print('Accuracy of Random Forest is ', acc_forest)"
   ]
  },
  {
   "cell_type": "code",
   "execution_count": 24,
   "metadata": {},
   "outputs": [
    {
     "data": {
      "text/html": [
       "<div>\n",
       "<table border=\"1\" class=\"dataframe\">\n",
       "  <thead>\n",
       "    <tr style=\"text-align: right;\">\n",
       "      <th></th>\n",
       "      <th>Model</th>\n",
       "      <th>Score</th>\n",
       "    </tr>\n",
       "  </thead>\n",
       "  <tbody>\n",
       "    <tr>\n",
       "      <th>5</th>\n",
       "      <td>Random Forest</td>\n",
       "      <td>0.858209</td>\n",
       "    </tr>\n",
       "    <tr>\n",
       "      <th>6</th>\n",
       "      <td>KNN</td>\n",
       "      <td>0.832090</td>\n",
       "    </tr>\n",
       "    <tr>\n",
       "      <th>0</th>\n",
       "      <td>Support Vector Machines</td>\n",
       "      <td>0.820896</td>\n",
       "    </tr>\n",
       "    <tr>\n",
       "      <th>3</th>\n",
       "      <td>Decision Tree</td>\n",
       "      <td>0.820896</td>\n",
       "    </tr>\n",
       "    <tr>\n",
       "      <th>2</th>\n",
       "      <td>Logistic Regression</td>\n",
       "      <td>0.813433</td>\n",
       "    </tr>\n",
       "    <tr>\n",
       "      <th>1</th>\n",
       "      <td>Linear SVC</td>\n",
       "      <td>0.794776</td>\n",
       "    </tr>\n",
       "    <tr>\n",
       "      <th>4</th>\n",
       "      <td>Naive Bayes</td>\n",
       "      <td>0.776119</td>\n",
       "    </tr>\n",
       "  </tbody>\n",
       "</table>\n",
       "</div>"
      ],
      "text/plain": [
       "                     Model     Score\n",
       "5            Random Forest  0.858209\n",
       "6                      KNN  0.832090\n",
       "0  Support Vector Machines  0.820896\n",
       "3            Decision Tree  0.820896\n",
       "2      Logistic Regression  0.813433\n",
       "1               Linear SVC  0.794776\n",
       "4              Naive Bayes  0.776119"
      ]
     },
     "execution_count": 24,
     "metadata": {},
     "output_type": "execute_result"
    }
   ],
   "source": [
    "model = pd.DataFrame({'Model':['Support Vector Machines', 'Linear SVC', 'Logistic Regression', 'Decision Tree', 'Naive Bayes', 'Random Forest', 'KNN'],\n",
    "                     'Score':[acc_rbf, acc_lin_svc, acc_log, acc_tree, acc_nb, acc_forest, acc_knn]})\n",
    "model.sort_values(by = 'Score', ascending = False)"
   ]
  },
  {
   "cell_type": "markdown",
   "metadata": {
    "collapsed": true
   },
   "source": [
    "# 4. Cross Validation"
   ]
  },
  {
   "cell_type": "code",
   "execution_count": 18,
   "metadata": {},
   "outputs": [
    {
     "name": "stdout",
     "output_type": "stream",
     "text": [
      "                      CV Mean       Std\n",
      "Random Forest        0.829426  0.028636\n",
      "Radial SVM           0.824906  0.026737\n",
      "Linear SVM           0.811448  0.030885\n",
      "Logistic Regression  0.809201  0.032571\n",
      "KNN                  0.808140  0.037020\n",
      "Decision Tree        0.806979  0.028620\n",
      "Naive Bayes          0.789001  0.028326\n"
     ]
    }
   ],
   "source": [
    "kfold = KFold(n_splits = 10, random_state = 22)\n",
    "\n",
    "a = []\n",
    "acc = []\n",
    "classifiers = ['Linear SVM', 'Radial SVM', 'Logistic Regression', 'KNN', 'Decision Tree', 'Naive Bayes', 'Random Forest']\n",
    "models = [svm.SVC(kernel = 'linear'), svm.SVC(kernel='rbf',C=1, gamma = 0.1), LogisticRegression(), KNeighborsClassifier(n_neighbors=3), \n",
    "          DecisionTreeClassifier(), GaussianNB(), RandomForestClassifier(n_estimators = 100)]\n",
    "\n",
    "for model in models:\n",
    "    cv_result = cross_val_score(model, X,Y, cv = kfold, scoring = 'accuracy')\n",
    "    a.append({'CV Mean':cv_result.mean(),'Std':cv_result.std()})\n",
    "    acc.append(cv_result)\n",
    "\n",
    "\n",
    "df = pd.DataFrame(a, index = classifiers).sort_values(by='CV Mean', ascending = False)\n",
    "print(df)"
   ]
  },
  {
   "cell_type": "code",
   "execution_count": 19,
   "metadata": {},
   "outputs": [
    {
     "data": {
      "text/plain": [
       "<matplotlib.axes._subplots.AxesSubplot at 0xa266d30>"
      ]
     },
     "execution_count": 19,
     "metadata": {},
     "output_type": "execute_result"
    },
    {
     "data": {
      "image/png": "[encoded data removed]",
      "text/plain": [
       "<matplotlib.figure.Figure at 0xa2665f8>"
      ]
     },
     "metadata": {},
     "output_type": "display_data"
    }
   ],
   "source": [
    "plt.subplots(figsize = (12,6))\n",
    "df_acc = pd.DataFrame(acc, index = [classifiers])\n",
    "df_acc.T.boxplot()"
   ]
  },
  {
   "cell_type": "code",
   "execution_count": 20,
   "metadata": {},
   "outputs": [
    {
     "data": {
      "text/plain": [
       "<matplotlib.text.Text at 0xa780fd0>"
      ]
     },
     "execution_count": 20,
     "metadata": {},
     "output_type": "execute_result"
    },
    {
     "data": {
      "image/png": "[encoded data removed]",
      "text/plain": [
       "<matplotlib.figure.Figure at 0xa754400>"
      ]
     },
     "metadata": {},
     "output_type": "display_data"
    }
   ],
   "source": [
    "ax = sns.barplot(y=df.index,x='CV Mean', data = df.sort_values('CV Mean', ascending = False))\n",
    "ax.set_title('Average CV Mean Accuracy')"
   ]
  },
  {
   "cell_type": "markdown",
   "metadata": {},
   "source": [
    "# 5. Confusion Matrix"
   ]
  },
  {
   "cell_type": "code",
   "execution_count": 21,
   "metadata": {},
   "outputs": [
    {
     "data": {
      "text/plain": [
       "<matplotlib.text.Text at 0xaa429e8>"
      ]
     },
     "execution_count": 21,
     "metadata": {},
     "output_type": "execute_result"
    },
    {
     "data": {
      "image/png": "[encoded data removed]",
      "text/plain": [
       "<matplotlib.figure.Figure at 0xa81b080>"
      ]
     },
     "metadata": {},
     "output_type": "display_data"
    }
   ],
   "source": [
    "f, ax = plt.subplots(3,3,figsize = (12,10))\n",
    "\n",
    "y_pred = cross_val_predict(RandomForestClassifier(n_estimators = 100), X, Y, cv = 10)\n",
    "sns.heatmap(confusion_matrix(Y, y_pred), ax = ax[0,0], annot = True, fmt = '2.0f', cbar = False)\n",
    "ax[0,0].set_title('Matrix for Random Forests')\n",
    "\n",
    "y_pred = cross_val_predict(svm.SVC(kernel = 'rbf',C=1,gamma = 0.1), X, Y, cv = 10)\n",
    "sns.heatmap(confusion_matrix(Y, y_pred), ax = ax[0,1], annot = True, fmt = '2.0f', cbar = False)\n",
    "ax[0,1].set_title('Matrix for rbf-SVM')\n",
    "\n",
    "y_pred = cross_val_predict(DecisionTreeClassifier(), X, Y, cv = 10)\n",
    "sns.heatmap(confusion_matrix(Y, y_pred), ax = ax[0,2], annot = True, fmt = '2.0f', cbar = False)\n",
    "ax[0,2].set_title('Matrix for Decision Tree')\n",
    "\n",
    "y_pred = cross_val_predict(svm.SVC(kernel = 'linear'), X, Y, cv = 10)\n",
    "sns.heatmap(confusion_matrix(Y, y_pred), ax = ax[1,0], annot = True, fmt = '2.0f', cbar = False)\n",
    "ax[1,0].set_title('Martix for linear SVM')\n",
    "\n",
    "y_pred = cross_val_predict(LogisticRegression(), X, Y, cv = 10)\n",
    "sns.heatmap(confusion_matrix(Y, y_pred), ax = ax[1,1], annot = True, fmt = '2.0f', cbar = False)\n",
    "ax[1,1].set_title('Matrix for Logistic Regression')\n",
    "\n",
    "y_pred = cross_val_predict(KNeighborsClassifier(n_neighbors=3), X, Y, cv = 10)\n",
    "sns.heatmap(confusion_matrix(Y, y_pred), ax = ax[1,2], annot = True, fmt = '2.0f', cbar = False)\n",
    "ax[1,2].set_title('Matrix for KNN')\n",
    "\n",
    "y_pred =cross_val_predict(GaussianNB(), X, Y, cv = 10)\n",
    "sns.heatmap(confusion_matrix(Y, y_pred), ax = ax[2,0], annot = True, fmt = '2.0f', cbar = False)\n",
    "ax[2,0].set_title('Matrix for Naive Bayes')"
   ]
  },
  {
   "cell_type": "markdown",
   "metadata": {
    "collapsed": true
   },
   "source": [
    "# 6. Hyper parameter tuning"
   ]
  },
  {
   "cell_type": "markdown",
   "metadata": {
    "collapsed": true
   },
   "source": [
    "### SVM"
   ]
  },
  {
   "cell_type": "code",
   "execution_count": 26,
   "metadata": {},
   "outputs": [
    {
     "name": "stdout",
     "output_type": "stream",
     "text": [
      "Fitting 3 folds for each of 240 candidates, totalling 720 fits\n",
      "0.827160493827\n",
      "SVC(C=0.8, cache_size=200, class_weight=None, coef0=0.0,\n",
      "  decision_function_shape=None, degree=3, gamma=0.1, kernel='rbf',\n",
      "  max_iter=-1, probability=False, random_state=None, shrinking=True,\n",
      "  tol=0.001, verbose=False)\n"
     ]
    },
    {
     "name": "stderr",
     "output_type": "stream",
     "text": [
      "[Parallel(n_jobs=1)]: Done 720 out of 720 | elapsed:   41.6s finished\n"
     ]
    }
   ],
   "source": [
    "C = [0.05,0.1,0.2,0.25,0.3,0.4,0.5,0.6,0.7,0.8,0.7,1.0]\n",
    "gamma = [0.1,0.2,0.3,0.4,0.5,0.6,0.7,0.8,0.9,1.0]\n",
    "kernel = ['rbf', 'linear']\n",
    "hyper = {'kernel':kernel, 'C':C, 'gamma':gamma}\n",
    "gd = GridSearchCV(estimator = svm.SVC(), param_grid = hyper, verbose = True)\n",
    "gd.fit(X,Y)\n",
    "print(gd.best_score_)\n",
    "print(gd.best_estimator_)"
   ]
  },
  {
   "cell_type": "markdown",
   "metadata": {
    "collapsed": true
   },
   "source": [
    "# Random Forest"
   ]
  },
  {
   "cell_type": "code",
   "execution_count": 53,
   "metadata": {},
   "outputs": [
    {
     "name": "stdout",
     "output_type": "stream",
     "text": [
      "Fitting 3 folds for each of 9 candidates, totalling 27 fits\n"
     ]
    },
    {
     "name": "stderr",
     "output_type": "stream",
     "text": [
      "[Parallel(n_jobs=1)]: Done  27 out of  27 | elapsed:  1.6min finished\n"
     ]
    },
    {
     "name": "stdout",
     "output_type": "stream",
     "text": [
      "0.824915824916\n",
      "RandomForestClassifier(bootstrap=True, class_weight=None, criterion='gini',\n",
      "            max_depth=None, max_features='auto', max_leaf_nodes=None,\n",
      "            min_impurity_split=1e-07, min_samples_leaf=1,\n",
      "            min_samples_split=2, min_weight_fraction_leaf=0.0,\n",
      "            n_estimators=600, n_jobs=1, oob_score=False, random_state=None,\n",
      "            verbose=0, warm_start=False)\n"
     ]
    }
   ],
   "source": [
    "n_estimators = range(100,1000,100)\n",
    "hyper = {'n_estimators':n_estimators}\n",
    "gd = GridSearchCV(estimator = RandomForestClassifier(), param_grid = hyper, verbose = True)\n",
    "gd.fit(X,Y)\n",
    "print(gd.best_score_)\n",
    "print(gd.best_estimator_)"
   ]
  },
  {
   "cell_type": "markdown",
   "metadata": {
    "collapsed": true
   },
   "source": [
    "# 7. Ensembling"
   ]
  },
  {
   "cell_type": "markdown",
   "metadata": {},
   "source": [
    "### Voting classifier"
   ]
  },
  {
   "cell_type": "code",
   "execution_count": 59,
   "metadata": {},
   "outputs": [
    {
     "name": "stdout",
     "output_type": "stream",
     "text": [
      "The accuracy for ensembled model is:  0.824626865672\n",
      "The cross validated score is  0.837249177165\n"
     ]
    }
   ],
   "source": [
    "vot_class = VotingClassifier(estimators = [('KNN', KNeighborsClassifier(n_neighbors=3)),\n",
    "                                         ('rbf-SVC', svm.SVC(kernel = 'rbf', C = 0.8, gamma = 0.1, probability = True)),\n",
    "                                         ('RandFor', RandomForestClassifier(n_estimators = 500, random_state = 0)),\n",
    "                                         ('LogReg', LogisticRegression(C = 0.05)),\n",
    "                                         ('DecTree',DecisionTreeClassifier(random_state = 0)),\n",
    "                                         ('NBayes',GaussianNB()),\n",
    "                                         ('lin-SVC', svm.SVC(kernel = 'linear', probability=True))],\n",
    "                           voting = 'soft')\n",
    "vot_class.fit(x_train, y_train)\n",
    "print('The accuracy for ensembled model is: ', vot_class.score(x_test, y_test))\n",
    "\n",
    "result = cross_val_score(vot_class, X,Y, cv = 10, scoring = 'accuracy')\n",
    "print('The cross validated score is ', result.mean())"
   ]
  },
  {
   "cell_type": "markdown",
   "metadata": {},
   "source": [
    "# 8. Baggind"
   ]
  },
  {
   "cell_type": "markdown",
   "metadata": {},
   "source": [
    "### Bagged KNN"
   ]
  },
  {
   "cell_type": "code",
   "execution_count": 37,
   "metadata": {},
   "outputs": [
    {
     "name": "stdout",
     "output_type": "stream",
     "text": [
      "The accuracy of bagged KNN is  0.847014925373\n",
      "The cross validated score for bagged KNN is  0.826075360345\n"
     ]
    }
   ],
   "source": [
    "model = BaggingClassifier(base_estimator=KNeighborsClassifier(n_neighbors=3), random_state = 0, n_estimators = 700)\n",
    "model.fit(x_train, y_train)\n",
    "prediction = model.predict(x_test)\n",
    "print('The accuracy of bagged KNN is ', metrics.accuracy_score(prediction, y_test))\n",
    "\n",
    "result = cross_val_score(model, X,Y, cv = 10, scoring = 'accuracy')\n",
    "print('The cross validated score for bagged KNN is ', result.mean())"
   ]
  },
  {
   "cell_type": "markdown",
   "metadata": {},
   "source": [
    "### Bagged Decission Tree"
   ]
  },
  {
   "cell_type": "code",
   "execution_count": 39,
   "metadata": {},
   "outputs": [
    {
     "name": "stdout",
     "output_type": "stream",
     "text": [
      "The accuracy for bagged Decision Tree is  0.865671641791\n",
      "The cross validated score for bagged Decision Tree is  0.827224492112\n"
     ]
    }
   ],
   "source": [
    "model = BaggingClassifier(base_estimator = DecisionTreeClassifier(), random_state = 0, n_estimators=100)\n",
    "model.fit(x_train, y_train)\n",
    "prediction = model.predict(x_test)\n",
    "print('The accuracy for bagged Decision Tree is ', metrics.accuracy_score(prediction , y_test))\n",
    "\n",
    "result = cross_val_score(model, X,Y, cv = 10, scoring = 'accuracy')\n",
    "print('The cross validated score for bagged Decision Tree is ', result.mean())"
   ]
  },
  {
   "cell_type": "markdown",
   "metadata": {},
   "source": [
    "# 9. Boosting"
   ]
  },
  {
   "cell_type": "markdown",
   "metadata": {},
   "source": [
    "### Adaptive Boosting"
   ]
  },
  {
   "cell_type": "code",
   "execution_count": 41,
   "metadata": {},
   "outputs": [
    {
     "name": "stdout",
     "output_type": "stream",
     "text": [
      "The cross validated score for AdaBoost is  0.82716207014\n"
     ]
    }
   ],
   "source": [
    "ada = AdaBoostClassifier(n_estimators = 200, random_state = 0, learning_rate = 0.1)\n",
    "result = cross_val_score(ada, X,Y,  cv = 10, scoring = 'accuracy')\n",
    "print(\"The cross validated score for AdaBoost is \", result.mean())"
   ]
  },
  {
   "cell_type": "markdown",
   "metadata": {},
   "source": [
    "### Stochastic Gradien Boosting"
   ]
  },
  {
   "cell_type": "code",
   "execution_count": 43,
   "metadata": {},
   "outputs": [
    {
     "name": "stdout",
     "output_type": "stream",
     "text": [
      "The cross validated score for Gradient Boosting is  0.823941663829\n"
     ]
    }
   ],
   "source": [
    "grad = GradientBoostingClassifier(n_estimators = 500, random_state = 0, learning_rate = 0.1)\n",
    "result = cross_val_score(grad, X,Y, cv = 10, scoring = 'accuracy')\n",
    "print('The cross validated score for Gradient Boosting is ', result.mean())"
   ]
  },
  {
   "cell_type": "markdown",
   "metadata": {},
   "source": [
    "### XGBOOST"
   ]
  },
  {
   "cell_type": "code",
   "execution_count": 44,
   "metadata": {},
   "outputs": [
    {
     "ename": "NameError",
     "evalue": "name 'XGBClassifier' is not defined",
     "output_type": "error",
     "traceback": [
      "\u001b[0;31m---------------------------------------------------------------------------\u001b[0m",
      "\u001b[0;31mNameError\u001b[0m                                 Traceback (most recent call last)",
      "\u001b[0;32m<ipython-input-44-4673cc057bf7>\u001b[0m in \u001b[0;36m<module>\u001b[0;34m()\u001b[0m\n\u001b[0;32m----> 1\u001b[0;31m \u001b[0mxgboost\u001b[0m \u001b[1;33m=\u001b[0m \u001b[0mXGBClassifier\u001b[0m\u001b[1;33m(\u001b[0m\u001b[0mn_estimators\u001b[0m \u001b[1;33m=\u001b[0m \u001b[1;36m900\u001b[0m\u001b[1;33m,\u001b[0m \u001b[0mlearning_state\u001b[0m \u001b[1;33m=\u001b[0m \u001b[1;36m0.1\u001b[0m\u001b[1;33m)\u001b[0m\u001b[1;33m\u001b[0m\u001b[0m\n\u001b[0m\u001b[1;32m      2\u001b[0m \u001b[0mresult\u001b[0m \u001b[1;33m=\u001b[0m \u001b[0mcross_val_score\u001b[0m\u001b[1;33m(\u001b[0m\u001b[0mxgboost\u001b[0m\u001b[1;33m,\u001b[0m \u001b[0mX\u001b[0m\u001b[1;33m,\u001b[0m\u001b[0mY\u001b[0m\u001b[1;33m,\u001b[0m \u001b[0mcv\u001b[0m \u001b[1;33m=\u001b[0m \u001b[1;36m10\u001b[0m\u001b[1;33m,\u001b[0m \u001b[0mscoring\u001b[0m \u001b[1;33m=\u001b[0m \u001b[1;34m'accuracy'\u001b[0m\u001b[1;33m)\u001b[0m\u001b[1;33m\u001b[0m\u001b[0m\n\u001b[1;32m      3\u001b[0m \u001b[0mprint\u001b[0m\u001b[1;33m(\u001b[0m\u001b[1;34m'The crose validated score for Gradient Boosting is '\u001b[0m\u001b[1;33m,\u001b[0m \u001b[0mresult\u001b[0m\u001b[1;33m.\u001b[0m\u001b[0mscore\u001b[0m\u001b[1;33m(\u001b[0m\u001b[1;33m)\u001b[0m\u001b[1;33m)\u001b[0m\u001b[1;33m\u001b[0m\u001b[0m\n",
      "\u001b[0;31mNameError\u001b[0m: name 'XGBClassifier' is not defined"
     ]
    }
   ],
   "source": [
    "#xgboost = XGBClassifier(n_estimators = 900, learning_state = 0.1)\n",
    "#result = cross_val_score(xgboost, X,Y, cv = 10, scoring = 'accuracy')\n",
    "#print('The crose validated score for Gradient Boosting is ', result.score())"
   ]
  },
  {
   "cell_type": "markdown",
   "metadata": {},
   "source": [
    "# 10. Hyper-Parameter Tuning for Bagged Decission Tree"
   ]
  },
  {
   "cell_type": "code",
   "execution_count": 48,
   "metadata": {},
   "outputs": [
    {
     "name": "stdout",
     "output_type": "stream",
     "text": [
      "Fitting 3 folds for each of 120 candidates, totalling 360 fits\n"
     ]
    },
    {
     "name": "stderr",
     "output_type": "stream",
     "text": [
      "[Parallel(n_jobs=1)]: Done 360 out of 360 | elapsed: 20.5min finished\n"
     ]
    },
    {
     "name": "stdout",
     "output_type": "stream",
     "text": [
      "0.820426487093\n",
      "AdaBoostClassifier(algorithm='SAMME.R', base_estimator=None,\n",
      "          learning_rate=0.05, n_estimators=100, random_state=None)\n"
     ]
    }
   ],
   "source": [
    "n_estimators = list(range(100,1100,100))\n",
    "learn_rate = [0.05,0.1,0.2,0.25,0.3,0.4,0.5,0.6,0.7,0.8,0.9,1.0]\n",
    "hyper = {'n_estimators':n_estimators, 'learning_rate':learn_rate}\n",
    "gd = GridSearchCV(estimator = AdaBoostClassifier(), param_grid = hyper, verbose = True, n_jobs = 4)\n",
    "gd.fit(X,Y)\n",
    "print(gd.best_score_)\n",
    "print(gd.best_estimator_)"
   ]
  },
  {
   "cell_type": "code",
   "execution_count": null,
   "metadata": {
    "collapsed": true
   },
   "outputs": [],
   "source": [
    "### Confusion matrix for best model"
   ]
  },
  {
   "cell_type": "code",
   "execution_count": 62,
   "metadata": {},
   "outputs": [
    {
     "data": {
      "image/png": "[encoded data removed]",
      "text/plain": [
       "<matplotlib.figure.Figure at 0xa7aae10>"
      ]
     },
     "metadata": {},
     "output_type": "display_data"
    }
   ],
   "source": [
    "vot_class = VotingClassifier(estimators = [('KNN', KNeighborsClassifier(n_neighbors=3)),\n",
    "                                         ('rbf-SVC', svm.SVC(kernel = 'rbf', C = 0.8, gamma = 0.1, probability = True)),\n",
    "                                         ('RandFor', RandomForestClassifier(n_estimators = 500, random_state = 0)),\n",
    "                                         ('LogReg', LogisticRegression(C = 0.05)),\n",
    "                                         ('DecTree',DecisionTreeClassifier(random_state = 0)),\n",
    "                                         ('NBayes',GaussianNB()),\n",
    "                                         ('lin-SVC', svm.SVC(kernel = 'linear', probability=True))],\n",
    "                           voting = 'soft')\n",
    "result = cross_val_predict(vot_class, X,Y, cv = 10)\n",
    "sns.heatmap(confusion_matrix(Y,result), cmap = 'YlGnBu',annot=True,fmt='2.0f')\n",
    "plt.show()"
   ]
  },
  {
   "cell_type": "markdown",
   "metadata": {
    "collapsed": true
   },
   "source": [
    "# 11. Feature importance"
   ]
  },
  {
   "cell_type": "code",
   "execution_count": 68,
   "metadata": {},
   "outputs": [
    {
     "ename": "AttributeError",
     "evalue": "'VotingClassifier' object has no attribute 'feature_importances_'",
     "output_type": "error",
     "traceback": [
      "\u001b[0;31m---------------------------------------------------------------------------\u001b[0m",
      "\u001b[0;31mAttributeError\u001b[0m                            Traceback (most recent call last)",
      "\u001b[0;32m<ipython-input-68-c8cece310c10>\u001b[0m in \u001b[0;36m<module>\u001b[0;34m()\u001b[0m\n\u001b[1;32m     26\u001b[0m                            voting = 'soft')\n\u001b[1;32m     27\u001b[0m \u001b[0mmodel\u001b[0m\u001b[1;33m.\u001b[0m\u001b[0mfit\u001b[0m\u001b[1;33m(\u001b[0m\u001b[0mX\u001b[0m\u001b[1;33m,\u001b[0m\u001b[0mY\u001b[0m\u001b[1;33m)\u001b[0m\u001b[1;33m\u001b[0m\u001b[0m\n\u001b[0;32m---> 28\u001b[0;31m \u001b[0mpd\u001b[0m\u001b[1;33m.\u001b[0m\u001b[0mSeries\u001b[0m\u001b[1;33m(\u001b[0m\u001b[0mmodel\u001b[0m\u001b[1;33m.\u001b[0m\u001b[0mfeature_importances_\u001b[0m\u001b[1;33m,\u001b[0m \u001b[0mX\u001b[0m\u001b[1;33m.\u001b[0m\u001b[0mcolumns\u001b[0m\u001b[1;33m)\u001b[0m\u001b[1;33m.\u001b[0m\u001b[0msort_values\u001b[0m\u001b[1;33m(\u001b[0m\u001b[0mascending\u001b[0m \u001b[1;33m=\u001b[0m \u001b[1;32mTrue\u001b[0m\u001b[1;33m)\u001b[0m\u001b[1;33m.\u001b[0m\u001b[0mplot\u001b[0m\u001b[1;33m.\u001b[0m\u001b[0mbarh\u001b[0m\u001b[1;33m(\u001b[0m\u001b[0mwidth\u001b[0m \u001b[1;33m=\u001b[0m \u001b[1;36m0.8\u001b[0m\u001b[1;33m,\u001b[0m \u001b[0max\u001b[0m \u001b[1;33m=\u001b[0m \u001b[0max\u001b[0m\u001b[1;33m[\u001b[0m\u001b[1;36m1\u001b[0m\u001b[1;33m,\u001b[0m\u001b[1;36m1\u001b[0m\u001b[1;33m]\u001b[0m\u001b[1;33m,\u001b[0m\u001b[0mcolor\u001b[0m\u001b[1;33m=\u001b[0m\u001b[1;34m'#FD0F00'\u001b[0m\u001b[1;33m)\u001b[0m\u001b[1;33m\u001b[0m\u001b[0m\n\u001b[0m\u001b[1;32m     29\u001b[0m \u001b[0max\u001b[0m\u001b[1;33m[\u001b[0m\u001b[1;36m1\u001b[0m\u001b[1;33m,\u001b[0m\u001b[1;36m1\u001b[0m\u001b[1;33m]\u001b[0m\u001b[1;33m.\u001b[0m\u001b[0mset_title\u001b[0m\u001b[1;33m(\u001b[0m\u001b[1;34m'Feature Importance for Voting Classifier'\u001b[0m\u001b[1;33m)\u001b[0m\u001b[1;33m\u001b[0m\u001b[0m\n",
      "\u001b[0;31mAttributeError\u001b[0m: 'VotingClassifier' object has no attribute 'feature_importances_'"
     ]
    },
    {
     "data": {
      "image/png": "[encoded data removed]",
      "text/plain": [
       "<matplotlib.figure.Figure at 0xa55a6a0>"
      ]
     },
     "metadata": {},
     "output_type": "display_data"
    }
   ],
   "source": [
    "f, ax = plt.subplots(2,2, figsize = (15,12))\n",
    "\n",
    "model = RandomForestClassifier(n_estimators = 500, random_state = 0)\n",
    "model.fit(X,Y)\n",
    "pd.Series(model.feature_importances_, X.columns).sort_values(ascending = True).plot.barh(width = 0.8, ax = ax[0,0])\n",
    "ax[0,0].set_title('Feature Importance for Random Forests')\n",
    "\n",
    "model = AdaBoostClassifier(n_estimators = 100, random_state = 0, learning_rate = 0.05)\n",
    "model.fit(X,Y)\n",
    "pd.Series(model.feature_importances_, X.columns).sort_values(ascending = True).plot.barh(width = 0.8, ax = ax[0,1],color='#ddff11')\n",
    "ax[0,1].set_title('Feature Importance for AdaBoost')\n",
    "\n",
    "model = GradientBoostingClassifier(n_estimators = 500, learning_rate = 0.1, random_state = 0)\n",
    "model.fit(X,Y)\n",
    "pd.Series(model.feature_importances_, X.columns).sort_values(ascending = True).plot.barh(width = 0.8, ax = ax[1,0],cmap='RdYlGn_r')\n",
    "ax[1,0].set_title('Feature Importance for GradienBoosting')\n",
    "\n",
    "model = XGBClassifier(n_estimators = 900, learning_state = 0.1)\n",
    "model.fit(X,Y)\n",
    "pd.Series(model.feature_importances_, X.columns).sort_values(ascending = True).plot.barh(width = 0.8, ax = ax[1,1],color='#FD0F00')\n",
    "ax[1,1].set_title('Feature Importance for XGBoost')"
   ]
  },
  {
   "cell_type": "code",
   "execution_count": null,
   "metadata": {
    "collapsed": true
   },
   "outputs": [],
   "source": []
  },
  {
   "cell_type": "code",
   "execution_count": null,
   "metadata": {
    "collapsed": true
   },
   "outputs": [],
   "source": []
  },
  {
   "cell_type": "code",
   "execution_count": null,
   "metadata": {},
   "outputs": [],
   "source": []
  },
  {
   "cell_type": "code",
   "execution_count": null,
   "metadata": {
    "collapsed": true
   },
   "outputs": [],
   "source": []
  }
 ],
 "metadata": {
  "kernelspec": {
   "display_name": "Python 3",
   "language": "python",
   "name": "python3"
  },
  "language_info": {
   "codemirror_mode": {
    "name": "ipython",
    "version": 3
   },
   "file_extension": ".py",
   "mimetype": "text/x-python",
   "name": "python",
   "nbconvert_exporter": "python",
   "pygments_lexer": "ipython3",
   "version": "3.6.5"
  }
 },
 "nbformat": 4,
 "nbformat_minor": 2
}
