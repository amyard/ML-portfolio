{
 "cells": [
  {
   "cell_type": "code",
   "execution_count": 5,
   "metadata": {
    "collapsed": true
   },
   "outputs": [],
   "source": [
    "import psycopg2\n",
    "import pandas as pd\n",
    "from sqlalchemy import create_engine"
   ]
  },
  {
   "cell_type": "code",
   "execution_count": 9,
   "metadata": {
    "collapsed": true
   },
   "outputs": [],
   "source": [
    "con = psycopg2.connect(\"dbname = 'countries' user = 'postgres' password = 'blablabla' host = 'localhost' port = '5432'\")"
   ]
  },
  {
   "cell_type": "code",
   "execution_count": 7,
   "metadata": {},
   "outputs": [],
   "source": [
    "cur = con.cursor()\n",
    "cur.execute('CREATE TABLE IF NOT EXISTS cities (name VARCHAR PRIMARY KEY, country_code VARCHAR, city_proper_pop REAL, \\\n",
    "           metroarea_pop REAL, urbanarea_pop REAL)')\n",
    "\n",
    "cur.execute('CREATE TABLE IF NOT EXISTS countries (code VARCHAR PRIMARY KEY, name VARCHAR, continent VARCHAR, region VARCHAR,\\\n",
    "           surface_area REAL, indep_year INTEGER, local_name VARCHAR, gov_form VARCHAR, capital VARCHAR, cap_long REAL, cap_lat REAL)')\n",
    "\n",
    "cur.execute('CREATE TABLE IF NOT EXISTS languages (lang_id INTEGER     PRIMARY KEY, code VARCHAR, name VARCHAR, \\\n",
    "            percent REAL, official BOOLEAN)')\n",
    "\n",
    "cur.execute('CREATE TABLE IF NOT EXISTS economies (econ_id INTEGER PRIMARY KEY, code VARCHAR, year INTEGER, income_group VARCHAR, \\\n",
    "            gdp_percapita REAL, gross_savings REAL, inflation_rate REAL, total_investment REAL, unemployment_rate REAL, \\\n",
    "            exports REAL, imports REAL)')\n",
    "\n",
    "cur.execute('CREATE TABLE IF NOT EXISTS currencies ( curr_id INTEGER PRIMARY KEY, code VARCHAR, basic_unit VARCHAR, \\\n",
    "            curr_code VARCHAR, frac_unit VARCHAR, frac_perbasic REAL)')\n",
    "\n",
    "cur.execute('CREATE TABLE IF NOT EXISTS populations (pop_id INTEGER PRIMARY KEY, country_code VARCHAR, year INTEGER, \\\n",
    "            fertility_rate REAL, life_expectancy REAL, size REAL )')\n",
    "\n",
    "cur.execute('CREATE TABLE IF NOT EXISTS countries_plus ( name VARCHAR, continent VARCHAR, code VARCHAR PRIMARY KEY, \\\n",
    "            surface_area REAL, geosize_group VARCHAR)')\n",
    "\n",
    "cur.execute('CREATE TABLE IF NOT EXISTS economies2010 ( code VARCHAR PRIMARY KEY, year INTEGER, income_group VARCHAR, \\\n",
    "            gross_savings REAL )')\n",
    "\n",
    "cur.execute('CREATE TABLE IF NOT EXISTS economies2015 (code VARCHAR PRIMARY KEY, year INTEGER, income_group VARCHAR, \\\n",
    "            gross_savings REAL)')\n",
    "\n",
    "\n",
    "con.commit()\n",
    "con.close()"
   ]
  },
  {
   "cell_type": "code",
   "execution_count": 112,
   "metadata": {},
   "outputs": [
    {
     "name": "stdout",
     "output_type": "stream",
     "text": [
      "cities\n",
      "countries\n",
      "countries_plus\n",
      "currencies\n",
      "economies\n",
      "economies2010\n",
      "economies2015\n",
      "languages\n",
      "populations\n"
     ]
    }
   ],
   "source": [
    "user = 'postgres'\n",
    "passw = 'blablabla'\n",
    "host =  'localhost'   \n",
    "port = 5432 \n",
    "\n",
    "connection = create_engine('postgresql+psycopg2://{}:{}@{}:{}'.format(user,passw, host, port))\n",
    "\n",
    "import glob\n",
    "import re\n",
    "\n",
    "number = len(glob.glob('csv\\*.csv'))\n",
    "for i in range(0, number):\n",
    "    path = glob.glob('csv\\*.csv')[i]\n",
    "    \n",
    "    name_of_db = re.findall(r'\\w+', path)[1]\n",
    "    #name_of_db = re.search(r'(?<=\\\\)\\w+', path).group()\n",
    "    df = pd.read_csv(path)\n",
    "    df.to_sql(name = name_of_db, con = connection, if_exists='replace', index = False)\n",
    "    print(name_of_db)"
   ]
  },
  {
   "cell_type": "code",
   "execution_count": 111,
   "metadata": {},
   "outputs": [
    {
     "data": {
      "text/plain": [
       "['csv\\\\cities.csv',\n",
       " 'csv\\\\countries.csv',\n",
       " 'csv\\\\countries_plus.csv',\n",
       " 'csv\\\\currencies.csv',\n",
       " 'csv\\\\economies.csv',\n",
       " 'csv\\\\economies2010.csv',\n",
       " 'csv\\\\economies2015.csv',\n",
       " 'csv\\\\languages.csv',\n",
       " 'csv\\\\populations.csv']"
      ]
     },
     "execution_count": 111,
     "metadata": {},
     "output_type": "execute_result"
    }
   ],
   "source": [
    "glob.glob('csv\\*.csv')"
   ]
  },
  {
   "cell_type": "code",
   "execution_count": 123,
   "metadata": {},
   "outputs": [
    {
     "name": "stdout",
     "output_type": "stream",
     "text": [
      "          name country_code  city_proper_pop  metroarea_pop  urbanarea_pop\n",
      "0      Abidjan          CIV          4765000            NaN        4765000\n",
      "1    Abu Dhabi          ARE          1145000            NaN        1145000\n",
      "2        Abuja          NGA          1235880      6000000.0        1235880\n",
      "3        Accra          GHA          2070463      4010054.0        2070463\n",
      "4  Addis Ababa          ETH          3103673      4567857.0        3103673\n"
     ]
    }
   ],
   "source": [
    "inserted = pd.read_sql('select * from cities', connection)\n",
    "print(inserted.head())"
   ]
  },
  {
   "cell_type": "code",
   "execution_count": 122,
   "metadata": {},
   "outputs": [
    {
     "name": "stdout",
     "output_type": "stream",
     "text": [
      "  code    country_name continent                     region  surface_area  \\\n",
      "0  AFG     Afghanistan      Asia  Southern and Central Asia      652090.0   \n",
      "1  NLD     Netherlands    Europe             Western Europe       41526.0   \n",
      "2  ALB         Albania    Europe            Southern Europe       28748.0   \n",
      "3  DZA         Algeria    Africa            Northern Africa     2381740.0   \n",
      "4  ASM  American Samoa   Oceania                  Polynesia         199.0   \n",
      "\n",
      "   indep_year             local_name                 gov_form    capital  \\\n",
      "0      1919.0  Afganistan/Afqanestan          Islamic Emirate      Kabul   \n",
      "1      1581.0              Nederland  Constitutional Monarchy  Amsterdam   \n",
      "2      1912.0              Shqiperia                 Republic     Tirane   \n",
      "3      1962.0     Al-Jazair/Algerie                 Republic    Algiers   \n",
      "4         NaN          Amerika Samoa             US Territory  Pago Pago   \n",
      "\n",
      "    cap_long  cap_lat  \n",
      "0   69.17610  34.5228  \n",
      "1    4.89095  52.3738  \n",
      "2   19.81720  41.3317  \n",
      "3    3.05097  36.7397  \n",
      "4 -170.69100 -14.2846  \n"
     ]
    }
   ],
   "source": [
    "inserted = pd.read_sql('select * from countries', connection)\n",
    "print(inserted.head())"
   ]
  },
  {
   "cell_type": "code",
   "execution_count": 121,
   "metadata": {},
   "outputs": [
    {
     "name": "stdout",
     "output_type": "stream",
     "text": [
      "             name continent code  surface_area geosize_group\n",
      "0     Afghanistan      Asia  AFG      652090.0        medium\n",
      "1     Netherlands    Europe  NLD       41526.0         small\n",
      "2         Albania    Europe  ALB       28748.0         small\n",
      "3         Algeria    Africa  DZA     2381740.0         large\n",
      "4  American Samoa   Oceania  ASM         199.0         small\n"
     ]
    }
   ],
   "source": [
    "inserted = pd.read_sql('select * from countries_plus', connection)\n",
    "print(inserted.head())"
   ]
  },
  {
   "cell_type": "code",
   "execution_count": 120,
   "metadata": {},
   "outputs": [
    {
     "name": "stdout",
     "output_type": "stream",
     "text": [
      "   curr_id code      basic_unit curr_code frac_unit  frac_perbasic\n",
      "0        1  AFG  Afghan afghani       AFN       Pul          100.0\n",
      "1        2  ALB    Albanian lek       ALL  Qindarke          100.0\n",
      "2        3  DZA  Algerian dinar       DZD   Santeem          100.0\n",
      "3        4  AND            Euro       EUR      Cent          100.0\n",
      "4        5  AGO  Angolan kwanza       AOA   Centimo          100.0\n"
     ]
    }
   ],
   "source": [
    "inserted = pd.read_sql('select * from currencies', connection)\n",
    "print(inserted.head())"
   ]
  },
  {
   "cell_type": "code",
   "execution_count": 119,
   "metadata": {},
   "outputs": [
    {
     "name": "stdout",
     "output_type": "stream",
     "text": [
      "   econ_id code  year         income_group  gdp_percapita  gross_savings  \\\n",
      "0        1  AFG  2010           Low income        539.667         37.133   \n",
      "1        2  AFG  2015           Low income        615.091         21.466   \n",
      "2        3  AGO  2010  Upper middle income       3599.270         23.534   \n",
      "3        4  AGO  2015  Upper middle income       3876.200         -0.425   \n",
      "4        5  ALB  2010  Upper middle income       4098.130         20.011   \n",
      "\n",
      "   inflation_rate  total_investment  unemployment_rate  exports  imports  \n",
      "0           2.179            30.402                NaN   46.394   24.381  \n",
      "1          -1.549            18.602                NaN  -49.110   -7.294  \n",
      "2          14.480            14.433                NaN   -3.266  -21.076  \n",
      "3          10.287             9.552                NaN    6.721  -21.778  \n",
      "4           3.605            31.305               14.0   10.645   -8.013  \n"
     ]
    }
   ],
   "source": [
    "inserted = pd.read_sql('select * from economies', connection)\n",
    "print(inserted.head())"
   ]
  },
  {
   "cell_type": "code",
   "execution_count": 118,
   "metadata": {},
   "outputs": [
    {
     "name": "stdout",
     "output_type": "stream",
     "text": [
      "  code  year         income_group  gross_savings\n",
      "0  AFG  2010           Low income         37.133\n",
      "1  AGO  2010  Upper middle income         23.534\n",
      "2  ALB  2010  Upper middle income         20.011\n",
      "3  ARE  2010          High income         27.073\n",
      "4  ARG  2010  Upper middle income         17.361\n"
     ]
    }
   ],
   "source": [
    "inserted = pd.read_sql('select * from economies2010', connection)\n",
    "print(inserted.head())"
   ]
  },
  {
   "cell_type": "code",
   "execution_count": 117,
   "metadata": {},
   "outputs": [
    {
     "name": "stdout",
     "output_type": "stream",
     "text": [
      "  code  year         income_group  gross_savings\n",
      "0  AFG  2015           Low income         21.466\n",
      "1  AGO  2015  Upper middle income         -0.425\n",
      "2  ALB  2015  Upper middle income         13.840\n",
      "3  ARE  2015          High income         34.106\n",
      "4  ARG  2015  Upper middle income         14.111\n"
     ]
    }
   ],
   "source": [
    "inserted = pd.read_sql('select * from economies2015', connection)\n",
    "print(inserted.head())"
   ]
  },
  {
   "cell_type": "code",
   "execution_count": 116,
   "metadata": {},
   "outputs": [
    {
     "name": "stdout",
     "output_type": "stream",
     "text": [
      "   lang_id code      name  percent official\n",
      "0        1  AFG      Dari     50.0     True\n",
      "1        2  AFG    Pashto     35.0     True\n",
      "2        3  AFG    Turkic     11.0    False\n",
      "3        4  AFG     Other      4.0    False\n",
      "4        5  ALB  Albanian     98.8     True\n"
     ]
    }
   ],
   "source": [
    "inserted = pd.read_sql('select * from languages', connection)\n",
    "print(inserted.head())"
   ]
  },
  {
   "cell_type": "code",
   "execution_count": 115,
   "metadata": {},
   "outputs": [
    {
     "name": "stdout",
     "output_type": "stream",
     "text": [
      "   pop_id country_code  year  fertility_rate  life_expectancy        size\n",
      "0      20          ABW  2010           1.704        74.953537    101597.0\n",
      "1      19          ABW  2015           1.647        75.573585    103889.0\n",
      "2       2          AFG  2010           5.746        58.970829  27962207.0\n",
      "3       1          AFG  2015           4.653        60.717171  32526562.0\n",
      "4      12          AGO  2010           6.416        50.654171  21219954.0\n"
     ]
    }
   ],
   "source": [
    "inserted = pd.read_sql('select * from populations', connection)\n",
    "print(inserted.head())"
   ]
  },
  {
   "cell_type": "code",
   "execution_count": 98,
   "metadata": {},
   "outputs": [],
   "source": []
  },
  {
   "cell_type": "code",
   "execution_count": null,
   "metadata": {},
   "outputs": [],
   "source": []
  },
  {
   "cell_type": "code",
   "execution_count": 124,
   "metadata": {
    "collapsed": true
   },
   "outputs": [],
   "source": [
    "con = psycopg2.connect(\"dbname = 'countries' user = 'postgres' password = 'blablabla' host = 'localhost' port = '5432'\")"
   ]
  },
  {
   "cell_type": "code",
   "execution_count": 127,
   "metadata": {},
   "outputs": [
    {
     "name": "stdout",
     "output_type": "stream",
     "text": [
      "monarchs\n",
      "presidents\n",
      "prime_ministers\n",
      "states\n"
     ]
    }
   ],
   "source": [
    "user = 'postgres'\n",
    "passw = 'blablabla'\n",
    "host =  'localhost'   \n",
    "port = 5432 \n",
    "\n",
    "connection = create_engine('postgresql+psycopg2://{}:{}@{}:{}'.format(user,passw, host, port))\n",
    "\n",
    "import glob\n",
    "import re\n",
    "\n",
    "number = len(glob.glob('leaders\\*.csv'))\n",
    "for i in range(0, number):\n",
    "    path = glob.glob('leaders\\*.csv')[i]\n",
    "    \n",
    "    name_of_db = re.findall(r'\\w+', path)[1]\n",
    "    #name_of_db = re.search(r'(?<=\\\\)\\w+', path).group()\n",
    "    df = pd.read_csv(path)\n",
    "    df.to_sql(name = name_of_db, con = connection, if_exists='replace', index = False)\n",
    "    print(name_of_db)"
   ]
  },
  {
   "cell_type": "code",
   "execution_count": 128,
   "metadata": {},
   "outputs": [
    {
     "name": "stdout",
     "output_type": "stream",
     "text": [
      "  country continent                  monarch\n",
      "0  Brunei      Asia         Hassanal Bolkiah\n",
      "1    Oman      Asia  Qaboos bin Said al Said\n",
      "2  Norway    Europe                 Harald V\n",
      "3   Spain    Europe                Felipe VI\n"
     ]
    }
   ],
   "source": [
    "inserted = pd.read_sql('select * from monarchs', connection)\n",
    "print(inserted.head())"
   ]
  },
  {
   "cell_type": "code",
   "execution_count": 130,
   "metadata": {},
   "outputs": [
    {
     "name": "stdout",
     "output_type": "stream",
     "text": [
      "    country      continent                president\n",
      "0     Egypt         Africa     Abdel Fattah el-Sisi\n",
      "1  Portugal         Europe  Marcelo Rebelo de Sousa\n",
      "2     Haiti  North America            Jovenel Moise\n",
      "3   Uruguay  South America              Jose Mujica\n",
      "4   Liberia         Africa    Ellen Johnson Sirleaf\n"
     ]
    }
   ],
   "source": [
    "inserted = pd.read_sql('select * from presidents', connection)\n",
    "print(inserted.head())"
   ]
  },
  {
   "cell_type": "code",
   "execution_count": 129,
   "metadata": {},
   "outputs": [
    {
     "name": "stdout",
     "output_type": "stream",
     "text": [
      "    country      continent      prime_minister\n",
      "0     Egypt         Africa       Sherif Ismail\n",
      "1  Portugal         Europe       Antonio Costa\n",
      "2   Vietnam           Asia    Nguyen Xuan Phuc\n",
      "3     Haiti  North America  Jack Guy Lafontant\n",
      "4     India           Asia       Narendra Modi\n"
     ]
    }
   ],
   "source": [
    "inserted = pd.read_sql('select * from prime_ministers', connection)\n",
    "print(inserted.head())"
   ]
  },
  {
   "cell_type": "code",
   "execution_count": null,
   "metadata": {
    "collapsed": true
   },
   "outputs": [],
   "source": [
    "inserted = pd.read_sql('select * from states', connection)\n",
    "print(inserted.head())"
   ]
  },
  {
   "cell_type": "code",
   "execution_count": null,
   "metadata": {},
   "outputs": [],
   "source": []
  },
  {
   "cell_type": "code",
   "execution_count": null,
   "metadata": {},
   "outputs": [],
   "source": []
  },
  {
   "cell_type": "code",
   "execution_count": null,
   "metadata": {
    "collapsed": true
   },
   "outputs": [],
   "source": []
  },
  {
   "cell_type": "code",
   "execution_count": null,
   "metadata": {
    "collapsed": true
   },
   "outputs": [],
   "source": []
  },
  {
   "cell_type": "code",
   "execution_count": null,
   "metadata": {},
   "outputs": [],
   "source": []
  },
  {
   "cell_type": "code",
   "execution_count": null,
   "metadata": {
    "collapsed": true
   },
   "outputs": [],
   "source": []
  },
  {
   "cell_type": "code",
   "execution_count": null,
   "metadata": {
    "collapsed": true
   },
   "outputs": [],
   "source": []
  }
 ],
 "metadata": {
  "kernelspec": {
   "display_name": "Python 3",
   "language": "python",
   "name": "python3"
  },
  "language_info": {
   "codemirror_mode": {
    "name": "ipython",
    "version": 3
   },
   "file_extension": ".py",
   "mimetype": "text/x-python",
   "name": "python",
   "nbconvert_exporter": "python",
   "pygments_lexer": "ipython3",
   "version": "3.6.5"
  }
 },
 "nbformat": 4,
 "nbformat_minor": 2
}
